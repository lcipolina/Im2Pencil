{
  "nbformat": 4,
  "nbformat_minor": 0,
  "metadata": {
    "colab": {
      "name": "Im2Pencil-for-colab.ipynb",
      "provenance": []
    },
    "kernelspec": {
      "name": "python3",
      "display_name": "Python 3"
    },
    "language_info": {
      "name": "python"
    },
    "accelerator": "GPU"
  },
  "cells": [
    {
      "cell_type": "markdown",
      "metadata": {
        "id": "qlmf8J_vnNQL"
      },
      "source": [
        "# <b>Part 2:</b> imports"
      ]
    },
    {
      "cell_type": "code",
      "metadata": {
        "id": "2UKlCyKvm8HZ"
      },
      "source": [
        "import os\n",
        "import matplotlib.pyplot as plt\n",
        "from PIL import Image\n",
        "\n",
        "from google.colab import files\n",
        "import numpy as np\n",
        "import cv2\n",
        "\n",
        "#from google.colab import drive\n",
        "#drive.mount('/content/drive')"
      ],
      "execution_count": null,
      "outputs": []
    },
    {
      "cell_type": "code",
      "metadata": {
        "colab": {
          "base_uri": "https://localhost:8080/"
        },
        "id": "lHbd1IMKfHN5",
        "outputId": "af848fa9-7b2b-4d11-9162-7224f1fb0087"
      },
      "source": [
        "!git clone https://github.com/GastonMazzei/Im2Pencil\n",
        "!cd Im2Pencil; sh pretrained_models/download_models.sh"
      ],
      "execution_count": 1,
      "outputs": [
        {
          "output_type": "stream",
          "text": [
            "Cloning into 'Im2Pencil'...\n",
            "remote: Enumerating objects: 860, done.\u001b[K\n",
            "remote: Total 860 (delta 0), reused 0 (delta 0), pack-reused 860\u001b[K\n",
            "Receiving objects: 100% (860/860), 49.07 MiB | 28.74 MiB/s, done.\n",
            "Resolving deltas: 100% (249/249), done.\n"
          ],
          "name": "stdout"
        }
      ]
    },
    {
      "cell_type": "markdown",
      "metadata": {
        "id": "wTWzTKP_nJKo"
      },
      "source": [
        "# <b>Part 2:</b> run the script"
      ]
    },
    {
      "cell_type": "code",
      "metadata": {
        "id": "3BHGXKZsnICy"
      },
      "source": [
        "!cd Im2Pencil; python3 test.py  --outline_style 1  --shading_style 1"
      ],
      "execution_count": null,
      "outputs": []
    },
    {
      "cell_type": "code",
      "metadata": {
        "colab": {
          "base_uri": "https://localhost:8080/"
        },
        "id": "CG2GwTbxh4he",
        "outputId": "6df2c999-a167-495b-cf29-4a324a142be5"
      },
      "source": [
        "!ls Im2Pencil/output -rt"
      ],
      "execution_count": 12,
      "outputs": [
        {
          "output_type": "stream",
          "text": [
            "15--104.png\t     t.jpg\t\tt_outline.png  3--1_s1.png\n",
            "15--104_shading.png  mouse_outline.gif\t3--1_e1.png    3--1_e1_s1_combo.png\n"
          ],
          "name": "stdout"
        }
      ]
    },
    {
      "cell_type": "code",
      "metadata": {
        "colab": {
          "base_uri": "https://localhost:8080/"
        },
        "id": "P-a7UV5CiEBJ",
        "outputId": "f36f41cf-ac95-49e1-8698-07f8e4992566"
      },
      "source": [
        "uploaded = files.upload()\n",
        "name = list(uploaded.keys())[0]\n",
        "nparr = np.fromstring(uploaded[name], np.uint8)\n",
        "img = cv2.imdecode(nparr, cv2.IMREAD_COLOR) # cv2.IMREAD_COLOR in OpenCV 3.1\n",
        "cv2.imwrite(f'Im2Pencil/input/{name}', img)\n",
        "os.listdir('Im2Pencil/input')"
      ],
      "execution_count": 24,
      "outputs": [
        {
          "output_type": "execute_result",
          "data": {
            "text/plain": [
              "['3--1_edge.jpg', '3--1_gf.jpg', 'image.png']"
            ]
          },
          "metadata": {
            "tags": []
          },
          "execution_count": 24
        }
      ]
    },
    {
      "cell_type": "code",
      "metadata": {
        "colab": {
          "base_uri": "https://localhost:8080/"
        },
        "id": "LexAQ1C2iuCT",
        "outputId": "f09607e8-854e-478e-a544-468652ee5799"
      },
      "source": [
        "imgout=Image.open(f'Im2Pencil/output/{name2}')\n",
        "plt.imshow(imgout)"
      ],
      "execution_count": 26,
      "outputs": [
        {
          "output_type": "execute_result",
          "data": {
            "text/plain": [
              "0"
            ]
          },
          "metadata": {
            "tags": []
          },
          "execution_count": 26
        }
      ]
    }
  ]
}